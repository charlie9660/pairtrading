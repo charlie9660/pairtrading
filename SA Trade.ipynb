{
 "cells": [
  {
   "cell_type": "code",
   "execution_count": 1,
   "metadata": {},
   "outputs": [],
   "source": [
    "from data import *\n",
    "from trade import *\n",
    "from statarb import *\n",
    "from utility import *\n",
    "import time\n",
    "from screener import *\n",
    "import warnings\n",
    "warnings.filterwarnings('ignore')"
   ]
  },
  {
   "cell_type": "code",
   "execution_count": 2,
   "metadata": {},
   "outputs": [],
   "source": [
    "scr = screener()\n",
    "d = data()\n",
    "t = trade()\n",
    "\n",
    "count = 0\n",
    "a = 0\n",
    "b = 0\n",
    "c = 0\n",
    "\n",
    "\n",
    "# t1 = 'F' \n",
    "# t2 = 'TSLA'\n",
    "    \n",
    "l = 0\n",
    "s = 0\n",
    "\n",
    "sig = 0\n",
    "sig_prev = 0\n",
    "\n",
    "window = 500\n",
    "z_window = 20\n",
    "\n",
    "flag = 0"
   ]
  },
  {
   "cell_type": "code",
   "execution_count": 7,
   "metadata": {
    "scrolled": false
   },
   "outputs": [
    {
     "name": "stdout",
     "output_type": "stream",
     "text": [
      "sig_prev: 0.47048246337957245  sig: 0.47048246337957245\n",
      "Unable to retrieve data!\n",
      "sig_prev: 0.47048246337957245  sig: 1.1535835991076988\n",
      "sig_prev: 1.1535835991076988  sig: 0.47048246337957245\n"
     ]
    },
    {
     "ename": "KeyboardInterrupt",
     "evalue": "",
     "output_type": "error",
     "traceback": [
      "\u001b[0;31m---------------------------------------------------------------------------\u001b[0m",
      "\u001b[0;31mKeyboardInterrupt\u001b[0m                         Traceback (most recent call last)",
      "\u001b[0;32m<ipython-input-7-8585bd353723>\u001b[0m in \u001b[0;36m<module>\u001b[0;34m\u001b[0m\n\u001b[1;32m     59\u001b[0m \u001b[0;34m\u001b[0m\u001b[0m\n\u001b[1;32m     60\u001b[0m         \u001b[0msig_prev\u001b[0m \u001b[0;34m=\u001b[0m \u001b[0msig\u001b[0m\u001b[0;34m\u001b[0m\u001b[0;34m\u001b[0m\u001b[0m\n\u001b[0;32m---> 61\u001b[0;31m         \u001b[0mtime\u001b[0m\u001b[0;34m.\u001b[0m\u001b[0msleep\u001b[0m\u001b[0;34m(\u001b[0m\u001b[0;36m2\u001b[0m\u001b[0;34m)\u001b[0m\u001b[0;34m\u001b[0m\u001b[0;34m\u001b[0m\u001b[0m\n\u001b[0m\u001b[1;32m     62\u001b[0m         \u001b[0mcount\u001b[0m \u001b[0;34m+=\u001b[0m \u001b[0;36m1\u001b[0m\u001b[0;34m\u001b[0m\u001b[0;34m\u001b[0m\u001b[0m\n",
      "\u001b[0;31mKeyboardInterrupt\u001b[0m: "
     ]
    }
   ],
   "source": [
    "\n",
    "while (1==1):\n",
    "\n",
    "    #re-calibrate position every 15mins\n",
    "        if (count == 0 or count > 900) and s + l == 0:\n",
    "            df = scr.load_data(['GOOG','AMZN','TSLA','FB','GM','DIS','F','FIT','ROST','DG','NFLX'],window)\n",
    "            t1,t2,c = scr.select_pair(df)\n",
    "            print(\"Best pair is: \",t1,t2)        \n",
    "            print('Compute new co-integration parameters!')\n",
    "            \n",
    "            ts1 = d.get_data(t1,'minute',window)[t1]['close']\n",
    "            ts2 = d.get_data(t2,'minute',window)[t2]['close']\n",
    "            \n",
    "            get_conint_params_2(ts1.values,ts2.values,z_window)\n",
    "            ts1_pos = round(500000 / ts1.values[-1]) \n",
    "            ts2_pos = round(ts1_pos * ts1.values[-1] / ts2.values[-1])\n",
    "            print('Allocate ',str(ts1_pos),'in ',t1,' and ',str(ts2_pos),' in ',t2)\n",
    "            count = 0\n",
    "\n",
    "\n",
    "#         t1 = 'AMZN'\n",
    "#         t2 = 'GM'\n",
    "#         ts1 = d.get_data(t1,'minute',window)[t1]['close']\n",
    "#         ts2 = d.get_data(t2,'minute',window)[t2]['close']\n",
    "#         #get_conint_params_2(ts1.values,ts2.values,z_window)\n",
    "#         ts1_pos = 280\n",
    "#         ts2_pos = 13455\n",
    "        \n",
    "        if c < 0.2:\n",
    "            ts1 = d.get_data(t1,'minute',window)[t1]['close']\n",
    "            ts2 = d.get_data(t2,'minute',window)[t2]['close']\n",
    "            #get_conint_params_2(ts1.values,ts2.values,z_window)\n",
    "            if sig == 0:\n",
    "                print('There is conintegration!Start trading!')\n",
    "            #sig = signal(a,b,c,ts1,ts2)\n",
    "            sig = signal_2(ts1,ts2,z_window)\n",
    "            print('sig_prev:',sig_prev,' sig:',sig)\n",
    "\n",
    "\n",
    "            if (sig_prev < -2 and sig > -2 and sig < -0.5 and l == 0) or (sig_prev > 0.5 and sig < 0.5 and s == 1):\n",
    "                print('Long ',t2,'SHORT ', t1)\n",
    "                l = 1\n",
    "                if s == 1:\n",
    "                    l = 0\n",
    "                    s = 0\n",
    "#                 t.trade(t2, ts2_pos, 'buy', 'market', 'gtc')\n",
    "#                 t.trade(t1, ts1_pos, 'sell', 'market', 'gtc')\n",
    "\n",
    "            elif (sig_prev < -0.5 and sig > -0.5 and l ==1) or (sig_prev > 2 and sig < 2 and sig > 0.5 and s == 0):\n",
    "                s = 1\n",
    "                if l== 1:\n",
    "                    l = 0\n",
    "                    s = 0\n",
    "                print('Short ',t2,'Long ', t1)\n",
    "#                 t.trade(t2, ts2_pos, 'sell', 'market', 'gtc')\n",
    "#                 t.trade(t1, ts1_pos, 'buy', 'market', 'gtc')\n",
    "        else:\n",
    "            print('C is too high, no trading: ',c)\n",
    "            count = 0\n",
    "\n",
    "        sig_prev = sig\n",
    "        time.sleep(2)\n",
    "        count += 1"
   ]
  },
  {
   "cell_type": "markdown",
   "metadata": {},
   "source": [
    "###### test = df.fillna(method ='ffill').dropna()"
   ]
  },
  {
   "cell_type": "code",
   "execution_count": null,
   "metadata": {},
   "outputs": [],
   "source": [
    "#get_conint_params_2(test['AMZN'],test['GM'],z_window)"
   ]
  },
  {
   "cell_type": "code",
   "execution_count": null,
   "metadata": {},
   "outputs": [],
   "source": [
    "#get_conint_params_2(ts1.values,ts2.values,z_window)"
   ]
  },
  {
   "cell_type": "code",
   "execution_count": null,
   "metadata": {},
   "outputs": [],
   "source": []
  }
 ],
 "metadata": {
  "kernelspec": {
   "display_name": "Python 3",
   "language": "python",
   "name": "python3"
  },
  "language_info": {
   "codemirror_mode": {
    "name": "ipython",
    "version": 3
   },
   "file_extension": ".py",
   "mimetype": "text/x-python",
   "name": "python",
   "nbconvert_exporter": "python",
   "pygments_lexer": "ipython3",
   "version": "3.7.4"
  }
 },
 "nbformat": 4,
 "nbformat_minor": 2
}
